{
 "cells": [
  {
   "cell_type": "code",
   "execution_count": 10,
   "id": "b1e8eed7",
   "metadata": {},
   "outputs": [],
   "source": [
    "from tkinter import Tk, Canvas\n",
    "import random"
   ]
  },
  {
   "cell_type": "code",
   "execution_count": 11,
   "id": "491db155",
   "metadata": {},
   "outputs": [],
   "source": [
    "WIDTH = 800\n",
    "HEIGHT = 600\n",
    "SEG_SIZE = 20\n",
    "IN_GAME = True"
   ]
  },
  {
   "cell_type": "code",
   "execution_count": 12,
   "id": "300ccd20",
   "metadata": {},
   "outputs": [],
   "source": [
    "def create_block():\n",
    "    global BLOCK\n",
    "    posx = SEG_SIZE * random.randint(1, (WIDTH-SEG_SIZE) / SEG_SIZE)\n",
    "    posy = SEG_SIZE * random.randint(1, (HEIGHT-SEG_SIZE) / SEG_SIZE)\n",
    "    BLOCK = c.create_oval(posx, posy,\n",
    "                          posx+SEG_SIZE, posy+SEG_SIZE,\n",
    "                          fill=\"red\")"
   ]
  },
  {
   "cell_type": "code",
   "execution_count": 13,
   "id": "deddc1de",
   "metadata": {},
   "outputs": [],
   "source": [
    "def main():\n",
    "    global IN_GAME\n",
    "    if IN_GAME:\n",
    "        s.move()\n",
    "        head_coords = c.coords(s.segments[-1].instance)\n",
    "        x1, y1, x2, y2 = head_coords\n",
    "     \n",
    "        if x2 > WIDTH or x1 < 0 or y1 < 0 or y2 > HEIGHT:\n",
    "            IN_GAME = False\n",
    "     \n",
    "        elif head_coords == c.coords(BLOCK):\n",
    "            s.add_segment()\n",
    "            c.delete(BLOCK)\n",
    "            create_block()\n",
    "        \n",
    "        else:\n",
    "            for index in range(len(s.segments)-1):\n",
    "                if head_coords == c.coords(s.segments[index].instance):\n",
    "                    IN_GAME = False\n",
    "        root.after(100, main)\n",
    "   \n",
    "    else:\n",
    "        set_state(restart_text, 'normal')\n",
    "        set_state(game_over_text, 'normal')"
   ]
  },
  {
   "cell_type": "code",
   "execution_count": 14,
   "id": "0aaf2c01",
   "metadata": {},
   "outputs": [],
   "source": [
    "class Segment(object):\n",
    "    def __init__(self, x, y):\n",
    "        self.instance = c.create_rectangle(x, y,\n",
    "                                           x+SEG_SIZE, y+SEG_SIZE,\n",
    "                                           fill=\"white\")"
   ]
  },
  {
   "cell_type": "code",
   "execution_count": 15,
   "id": "c6fb10ff",
   "metadata": {},
   "outputs": [],
   "source": [
    "class Snake(object):\n",
    "    def __init__(self, segments):\n",
    "        self.segments = segments\n",
    "       \n",
    "        self.mapping = {\"Down\": (0, 1), \"Right\": (1, 0),\n",
    "                        \"Up\": (0, -1), \"Left\": (-1, 0)}\n",
    "       \n",
    "        self.vector = self.mapping[\"Right\"]\n",
    "\n",
    "   \n",
    "    def move(self):\n",
    "        for index in range(len(self.segments)-1):\n",
    "            segment = self.segments[index].instance\n",
    "            x1, y1, x2, y2 = c.coords(self.segments[index+1].instance)\n",
    "            c.coords(segment, x1, y1, x2, y2)\n",
    "\n",
    "        x1, y1, x2, y2 = c.coords(self.segments[-2].instance)\n",
    "        c.coords(self.segments[-1].instance,\n",
    "                 x1+self.vector[0]*SEG_SIZE, y1+self.vector[1]*SEG_SIZE,\n",
    "                 x2+self.vector[0]*SEG_SIZE, y2+self.vector[1]*SEG_SIZE)\n",
    "\n",
    "    \n",
    "    def add_segment(self):\n",
    "        last_seg = c.coords(self.segments[0].instance)\n",
    "        x = last_seg[2] - SEG_SIZE\n",
    "        y = last_seg[3] - SEG_SIZE\n",
    "        self.segments.insert(0, Segment(x, y))\n",
    "\n",
    "    \n",
    "    def change_direction(self, event):\n",
    "        if event.keysym in self.mapping:\n",
    "            self.vector = self.mapping[event.keysym]\n",
    "\n",
    "    def reset_snake(self):\n",
    "        for segment in self.segments:\n",
    "            c.delete(segment.instance)"
   ]
  },
  {
   "cell_type": "code",
   "execution_count": 16,
   "id": "ed127397",
   "metadata": {},
   "outputs": [],
   "source": [
    "def set_state(item, state):\n",
    "    c.itemconfigure(item, state=state)"
   ]
  },
  {
   "cell_type": "code",
   "execution_count": 17,
   "id": "b6575d8f",
   "metadata": {},
   "outputs": [],
   "source": [
    "def clicked(event):\n",
    "    global IN_GAME\n",
    "    s.reset_snake()\n",
    "    IN_GAME = True\n",
    "    c.delete(BLOCK)\n",
    "    c.itemconfigure(restart_text, state='hidden')\n",
    "    c.itemconfigure(game_over_text, state='hidden')\n",
    "    start_game()"
   ]
  },
  {
   "cell_type": "code",
   "execution_count": 18,
   "id": "7a721468",
   "metadata": {},
   "outputs": [],
   "source": [
    "def start_game():\n",
    "    global s\n",
    "    create_block()\n",
    "    s = create_snake()\n",
    "    \n",
    "    c.bind(\"<KeyPress>\", s.change_direction)\n",
    "    main()"
   ]
  },
  {
   "cell_type": "code",
   "execution_count": 19,
   "id": "2320ba8f",
   "metadata": {},
   "outputs": [],
   "source": [
    "def create_snake():\n",
    "   \n",
    "    segments = [Segment(SEG_SIZE, SEG_SIZE),\n",
    "                Segment(SEG_SIZE*2, SEG_SIZE),\n",
    "                Segment(SEG_SIZE*3, SEG_SIZE)]\n",
    "    return Snake(segments)"
   ]
  },
  {
   "cell_type": "code",
   "execution_count": 26,
   "id": "81cbcad6",
   "metadata": {},
   "outputs": [
    {
     "data": {
      "text/plain": [
       "''"
      ]
     },
     "execution_count": 26,
     "metadata": {},
     "output_type": "execute_result"
    }
   ],
   "source": [
    "root = Tk()\n",
    "root.title(\"Snake\")"
   ]
  },
  {
   "cell_type": "code",
   "execution_count": 27,
   "id": "f4be88a9",
   "metadata": {},
   "outputs": [
    {
     "data": {
      "text/plain": [
       "'1948524469824clicked'"
      ]
     },
     "execution_count": 27,
     "metadata": {},
     "output_type": "execute_result"
    }
   ],
   "source": [
    "c = Canvas(root, width=WIDTH, height=HEIGHT, bg=\"#003300\")\n",
    "c.grid()\n",
    "# Текст на игровом поле\n",
    "c.focus_set()\n",
    "game_over_text = c.create_text(WIDTH/2, HEIGHT/2, text=\"Game Over!\",\n",
    "                               font='Arial 20', fill='red',\n",
    "                               state='hidden')\n",
    "restart_text = c.create_text(WIDTH/2, HEIGHT-HEIGHT/3,\n",
    "                             font='Arial 30',\n",
    "                             fill='white',\n",
    "                             text=\"Click to start\",\n",
    "                             state='hidden')\n",
    "c.tag_bind(restart_text, \"<Button-1>\", clicked)"
   ]
  },
  {
   "cell_type": "code",
   "execution_count": 28,
   "id": "ca324ff6",
   "metadata": {},
   "outputs": [],
   "source": [
    "start_game()\n",
    "root.mainloop()"
   ]
  },
  {
   "cell_type": "code",
   "execution_count": null,
   "id": "574d1e59",
   "metadata": {},
   "outputs": [],
   "source": []
  }
 ],
 "metadata": {
  "kernelspec": {
   "display_name": "Python 3 (ipykernel)",
   "language": "python",
   "name": "python3"
  },
  "language_info": {
   "codemirror_mode": {
    "name": "ipython",
    "version": 3
   },
   "file_extension": ".py",
   "mimetype": "text/x-python",
   "name": "python",
   "nbconvert_exporter": "python",
   "pygments_lexer": "ipython3",
   "version": "3.9.12"
  }
 },
 "nbformat": 4,
 "nbformat_minor": 5
}
